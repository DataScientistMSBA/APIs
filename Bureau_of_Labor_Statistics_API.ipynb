{
  "nbformat": 4,
  "nbformat_minor": 0,
  "metadata": {
    "colab": {
      "name": "Bureau of Labor Statistics API.ipynb",
      "provenance": [],
      "collapsed_sections": [],
      "toc_visible": true,
      "authorship_tag": "ABX9TyOyJGHa8by+StsR2RsX+CIE",
      "include_colab_link": true
    },
    "kernelspec": {
      "name": "python3",
      "display_name": "Python 3"
    },
    "language_info": {
      "name": "python"
    }
  },
  "cells": [
    {
      "cell_type": "markdown",
      "metadata": {
        "id": "view-in-github",
        "colab_type": "text"
      },
      "source": [
        "<a href=\"https://colab.research.google.com/github/DataScientistMSBA/APIs/blob/main/Bureau_of_Labor_Statistics_API.ipynb\" target=\"_parent\"><img src=\"https://colab.research.google.com/assets/colab-badge.svg\" alt=\"Open In Colab\"/></a>"
      ]
    },
    {
      "cell_type": "markdown",
      "source": [
        "# **BLS Public Data API**\n",
        "https://www.bls.gov/developers/api_signature_v2.htm#single"
      ],
      "metadata": {
        "id": "ExjnggMIWwwW"
      }
    },
    {
      "cell_type": "code",
      "source": [
        "from IPython.display import clear_output\n",
        "import requests\n",
        "import pandas as pd\n",
        "from google.colab import drive\n",
        "import json\n",
        "\n",
        "clear_output(wait=True)\n",
        "print('All packages loaded')"
      ],
      "metadata": {
        "colab": {
          "base_uri": "https://localhost:8080/"
        },
        "id": "jhYkvnovrVUY",
        "outputId": "037f0b19-0744-4be7-ae37-c9a5947c1e3a"
      },
      "execution_count": 1,
      "outputs": [
        {
          "output_type": "stream",
          "name": "stdout",
          "text": [
            "All packages loaded\n"
          ]
        }
      ]
    },
    {
      "cell_type": "code",
      "source": [
        "drive.mount('/content/gdrive/')"
      ],
      "metadata": {
        "colab": {
          "base_uri": "https://localhost:8080/"
        },
        "id": "QMwCnTRKrSTU",
        "outputId": "7acb26c5-0049-4ad0-83df-88a568a4d855"
      },
      "execution_count": 2,
      "outputs": [
        {
          "output_type": "stream",
          "name": "stdout",
          "text": [
            "Mounted at /content/gdrive/\n"
          ]
        }
      ]
    },
    {
      "cell_type": "code",
      "source": [
        "cd gdrive/MyDrive/'Colab Notebooks'/Security/"
      ],
      "metadata": {
        "colab": {
          "base_uri": "https://localhost:8080/"
        },
        "id": "GIXT36QKrqz-",
        "outputId": "800e5b12-5a2c-42a3-eaa9-b2619366d83d"
      },
      "execution_count": 3,
      "outputs": [
        {
          "output_type": "stream",
          "name": "stdout",
          "text": [
            "/content/gdrive/MyDrive/Colab Notebooks/Security\n"
          ]
        }
      ]
    },
    {
      "cell_type": "code",
      "source": [
        "fileObject = open(\"Passwords.txt\", \"r\")\n",
        "data = fileObject.read()\n",
        "with open(\"Passwords.txt\", \"r\", encoding='utf-8-sig') as f:\n",
        "    data = json.load(f)\n",
        "API_Key = data['BLS']['key']\n",
        "print('API key loaded')"
      ],
      "metadata": {
        "colab": {
          "base_uri": "https://localhost:8080/"
        },
        "id": "k3sgPhXmrtKz",
        "outputId": "74b6f091-6b01-4040-976f-0c1d0d8e38e4"
      },
      "execution_count": 4,
      "outputs": [
        {
          "output_type": "stream",
          "name": "stdout",
          "text": [
            "API key loaded\n"
          ]
        }
      ]
    },
    {
      "cell_type": "code",
      "source": [
        "start_year = '2021'\n",
        "end_year = '2022'\n",
        "headers = {'Content-type': 'application/json'}"
      ],
      "metadata": {
        "id": "-2uVb-l7cw0a"
      },
      "execution_count": 7,
      "outputs": []
    },
    {
      "cell_type": "markdown",
      "source": [
        "# **Employment**"
      ],
      "metadata": {
        "id": "DTi0AJ9_c_Mo"
      }
    },
    {
      "cell_type": "markdown",
      "source": [
        "**Civilian Labor Force (Seasonally Adjusted) - LNS11000000**"
      ],
      "metadata": {
        "id": "AdWVgTROcGzW"
      }
    },
    {
      "cell_type": "code",
      "source": [
        "source = ['LNS11000000']\n",
        "data = json.dumps({\"seriesid\": source, 'startyear': start_year, 'endyear': end_year, 'registrationkey': API_Key})\n",
        "response = requests.post('https://api.bls.gov/publicAPI/v2/timeseries/data/', data=data, headers=headers).json()['Results']['series'][0]['data']\n",
        "# response"
      ],
      "metadata": {
        "id": "-XY83-PNWXLy"
      },
      "execution_count": 12,
      "outputs": []
    },
    {
      "cell_type": "markdown",
      "source": [
        "**Civilian Employment (Seasonally Adjusted) - LNS12000000**"
      ],
      "metadata": {
        "id": "aABw3L8fdKMT"
      }
    },
    {
      "cell_type": "code",
      "source": [
        "source = ['LNS12000000']\n",
        "data = json.dumps({\"seriesid\": source, 'startyear': start_year, 'endyear': end_year, 'registrationkey': API_Key})\n",
        "response = requests.post('https://api.bls.gov/publicAPI/v2/timeseries/data/', data=data, headers=headers).json()['Results']['series'][0]['data']\n",
        "# response"
      ],
      "metadata": {
        "id": "eVA6QKv3dKku"
      },
      "execution_count": 9,
      "outputs": []
    },
    {
      "cell_type": "markdown",
      "source": [
        "**Civilian Unemployment (Seasonally Adjusted) - LNS13000000**"
      ],
      "metadata": {
        "id": "3qLU7UAPdK2R"
      }
    },
    {
      "cell_type": "code",
      "source": [
        "source = ['LNS13000000']\n",
        "data = json.dumps({\"seriesid\": source, 'startyear': start_year, 'endyear': end_year, 'registrationkey': API_Key})\n",
        "response = requests.post('https://api.bls.gov/publicAPI/v2/timeseries/data/', data=data, headers=headers).json()['Results']['series'][0]['data']\n",
        "# response"
      ],
      "metadata": {
        "id": "9HwFlQsedLUK"
      },
      "execution_count": 13,
      "outputs": []
    },
    {
      "cell_type": "markdown",
      "source": [
        "**Unemployment Rate (Seasonally Adjusted) - LNS14000000**"
      ],
      "metadata": {
        "id": "BYNwV8czdLsy"
      }
    },
    {
      "cell_type": "code",
      "source": [
        "source = ['LNS14000000']\n",
        "data = json.dumps({\"seriesid\": source, 'startyear': start_year, 'endyear': end_year, 'registrationkey': API_Key})\n",
        "response = requests.post('https://api.bls.gov/publicAPI/v2/timeseries/data/', data=data, headers=headers).json()['Results']['series'][0]['data']\n",
        "# response"
      ],
      "metadata": {
        "id": "wmiH1eqZdMF6"
      },
      "execution_count": 14,
      "outputs": []
    },
    {
      "cell_type": "markdown",
      "source": [
        "**Total Nonfarm Employment - Seasonally Adjusted - CES0000000001**"
      ],
      "metadata": {
        "id": "H-exDkxgdMVu"
      }
    },
    {
      "cell_type": "code",
      "source": [
        "source = ['CES0000000001']\n",
        "data = json.dumps({\"seriesid\": source, 'startyear': start_year, 'endyear': end_year, 'registrationkey': API_Key})\n",
        "response = requests.post('https://api.bls.gov/publicAPI/v2/timeseries/data/', data=data, headers=headers).json()['Results']['series'][0]['data']\n",
        "# response"
      ],
      "metadata": {
        "id": "8buOJoqgdM7L"
      },
      "execution_count": 15,
      "outputs": []
    },
    {
      "cell_type": "markdown",
      "source": [
        "**Total Private Average Weekly Hours of All Employees - Seasonally Adjusted - CES0500000002**"
      ],
      "metadata": {
        "id": "XQ16XCz2dNJQ"
      }
    },
    {
      "cell_type": "code",
      "source": [
        "source = ['CES0500000002']\n",
        "data = json.dumps({\"seriesid\": source, 'startyear': start_year, 'endyear': end_year, 'registrationkey': API_Key})\n",
        "response = requests.post('https://api.bls.gov/publicAPI/v2/timeseries/data/', data=data, headers=headers).json()['Results']['series'][0]['data']\n",
        "# response"
      ],
      "metadata": {
        "id": "Yf907FqRdNaz"
      },
      "execution_count": 16,
      "outputs": []
    },
    {
      "cell_type": "markdown",
      "source": [
        "**Total Private Average Weekly Hours of Prod. and Nonsup. Employees - Seasonally Adjusted - CES0500000007**"
      ],
      "metadata": {
        "id": "5Tst5dPxdNwn"
      }
    },
    {
      "cell_type": "code",
      "source": [
        "source = ['CES0500000007']\n",
        "data = json.dumps({\"seriesid\": source, 'startyear': start_year, 'endyear': end_year, 'registrationkey': API_Key})\n",
        "response = requests.post('https://api.bls.gov/publicAPI/v2/timeseries/data/', data=data, headers=headers).json()['Results']['series'][0]['data']\n",
        "# response"
      ],
      "metadata": {
        "id": "AGmJoD83dOGZ"
      },
      "execution_count": 17,
      "outputs": []
    },
    {
      "cell_type": "markdown",
      "source": [
        "**Total Private Average Hourly Earnings of All Employees - Seasonally Adjusted - CES0500000003**"
      ],
      "metadata": {
        "id": "Z6eIn4p6dOiW"
      }
    },
    {
      "cell_type": "code",
      "source": [
        "source = ['CES0500000003']\n",
        "data = json.dumps({\"seriesid\": source, 'startyear': start_year, 'endyear': end_year, 'registrationkey': API_Key})\n",
        "response = requests.post('https://api.bls.gov/publicAPI/v2/timeseries/data/', data=data, headers=headers).json()['Results']['series'][0]['data']\n",
        "# response"
      ],
      "metadata": {
        "id": "54xH8a9ldO1K"
      },
      "execution_count": 18,
      "outputs": []
    },
    {
      "cell_type": "markdown",
      "source": [
        "**Total Private Average Hourly Earnings of Prod. and Nonsup. Employees - Seasonally Adjusted - CES0500000008**"
      ],
      "metadata": {
        "id": "WU7gjzKWdPIJ"
      }
    },
    {
      "cell_type": "code",
      "source": [
        "source = ['CES0500000008']\n",
        "data = json.dumps({\"seriesid\": source, 'startyear': start_year, 'endyear': end_year, 'registrationkey': API_Key})\n",
        "response = requests.post('https://api.bls.gov/publicAPI/v2/timeseries/data/', data=data, headers=headers).json()['Results']['series'][0]['data']\n",
        "# response"
      ],
      "metadata": {
        "id": "XbFCgh9_dPdl"
      },
      "execution_count": 19,
      "outputs": []
    },
    {
      "cell_type": "markdown",
      "source": [
        "# **Productivity**"
      ],
      "metadata": {
        "id": "cPgL14ILeSFJ"
      }
    },
    {
      "cell_type": "markdown",
      "source": [
        "**Output Per Hour - Non-farm Business Productivity - PRS85006092**"
      ],
      "metadata": {
        "id": "jWvvOFD6dP7q"
      }
    },
    {
      "cell_type": "code",
      "source": [
        "source = ['PRS85006092']\n",
        "data = json.dumps({\"seriesid\": source, 'startyear': start_year, 'endyear': end_year, 'registrationkey': API_Key})\n",
        "response = requests.post('https://api.bls.gov/publicAPI/v2/timeseries/data/', data=data, headers=headers).json()['Results']['series'][0]['data']\n",
        "# response"
      ],
      "metadata": {
        "id": "oS0gGWYRdQSJ"
      },
      "execution_count": 20,
      "outputs": []
    },
    {
      "cell_type": "markdown",
      "source": [
        "**Nonfarm Business Unit Labor Costs - PRS85006112**"
      ],
      "metadata": {
        "id": "qZSNpy_cdQe-"
      }
    },
    {
      "cell_type": "code",
      "source": [
        "source = ['PRS85006112']\n",
        "data = json.dumps({\"seriesid\": source, 'startyear': start_year, 'endyear': end_year, 'registrationkey': API_Key})\n",
        "response = requests.post('https://api.bls.gov/publicAPI/v2/timeseries/data/', data=data, headers=headers).json()['Results']['series'][0]['data']\n",
        "# response"
      ],
      "metadata": {
        "id": "ym1AoqrMdQv2"
      },
      "execution_count": 21,
      "outputs": []
    },
    {
      "cell_type": "markdown",
      "source": [
        "**Nonfarm Business Real Hourly Compensation - PRS85006152**"
      ],
      "metadata": {
        "id": "sYIyTxoudRLT"
      }
    },
    {
      "cell_type": "code",
      "source": [
        "source = ['PRS85006152']\n",
        "data = json.dumps({\"seriesid\": source, 'startyear': start_year, 'endyear': end_year, 'registrationkey': API_Key})\n",
        "response = requests.post('https://api.bls.gov/publicAPI/v2/timeseries/data/', data=data, headers=headers).json()['Results']['series'][0]['data']\n",
        "# response"
      ],
      "metadata": {
        "id": "rMLrd6EedRb0"
      },
      "execution_count": 22,
      "outputs": []
    },
    {
      "cell_type": "markdown",
      "source": [
        "**Private Nonfarm Business - Multifactor Productivity, annual index - MPU4910012**"
      ],
      "metadata": {
        "id": "pHftwgEwdRnl"
      }
    },
    {
      "cell_type": "code",
      "source": [
        "source = ['MPU4910012']\n",
        "data = json.dumps({\"seriesid\": source, 'startyear': start_year, 'endyear': end_year, 'registrationkey': API_Key})\n",
        "response = requests.post('https://api.bls.gov/publicAPI/v2/timeseries/data/', data=data, headers=headers).json()['Results']['series'][0]['data']\n",
        "# response"
      ],
      "metadata": {
        "id": "ommMfREIdR5s"
      },
      "execution_count": 23,
      "outputs": []
    },
    {
      "cell_type": "markdown",
      "source": [
        "# **Price Indexes**"
      ],
      "metadata": {
        "id": "sVCRRsJuejSQ"
      }
    },
    {
      "cell_type": "markdown",
      "source": [
        "**CPI for All Urban Consumers (CPI-U) 1982-84=100 (Unadjusted) - CUUR0000SA0**"
      ],
      "metadata": {
        "id": "SScz5PdYdSZK"
      }
    },
    {
      "cell_type": "code",
      "source": [
        "source = ['CUUR0000SA0']\n",
        "data = json.dumps({\"seriesid\": source, 'startyear': start_year, 'endyear': end_year, 'registrationkey': API_Key})\n",
        "response = requests.post('https://api.bls.gov/publicAPI/v2/timeseries/data/', data=data, headers=headers).json()['Results']['series'][0]['data']\n",
        "# response"
      ],
      "metadata": {
        "id": "-SPqj7-qdSsJ"
      },
      "execution_count": 24,
      "outputs": []
    },
    {
      "cell_type": "markdown",
      "source": [
        "**CPI for All Urban Consumers (CPI-U) 1967=100 (Unadjusted) - CUUR0000AA0**"
      ],
      "metadata": {
        "id": "c4QmyivCdS_T"
      }
    },
    {
      "cell_type": "code",
      "source": [
        "source = ['CUUR0000AA0']\n",
        "data = json.dumps({\"seriesid\": source, 'startyear': start_year, 'endyear': end_year, 'registrationkey': API_Key})\n",
        "response = requests.post('https://api.bls.gov/publicAPI/v2/timeseries/data/', data=data, headers=headers).json()['Results']['series'][0]['data']\n",
        "# response"
      ],
      "metadata": {
        "id": "C6m1HHvadTVz"
      },
      "execution_count": 25,
      "outputs": []
    },
    {
      "cell_type": "markdown",
      "source": [
        "**CPI for Urban Wage Earners and Clerical Workers (CPI-W) 1982-84=100 (Unadjusted) - CWUR0000SA0**"
      ],
      "metadata": {
        "id": "g1U7man-dTz2"
      }
    },
    {
      "cell_type": "code",
      "source": [
        "source = ['CWUR0000SA0']\n",
        "data = json.dumps({\"seriesid\": source, 'startyear': start_year, 'endyear': end_year, 'registrationkey': API_Key})\n",
        "response = requests.post('https://api.bls.gov/publicAPI/v2/timeseries/data/', data=data, headers=headers).json()['Results']['series'][0]['data']\n",
        "# response"
      ],
      "metadata": {
        "id": "-1g2HgkydUHM"
      },
      "execution_count": 26,
      "outputs": []
    },
    {
      "cell_type": "markdown",
      "source": [
        "**CPI-U/Less Food and Energy (Unadjusted) - CUUR0000SA0L1E**"
      ],
      "metadata": {
        "id": "2dTzlt8xdays"
      }
    },
    {
      "cell_type": "code",
      "source": [
        "source = ['CUUR0000SA0L1E']\n",
        "data = json.dumps({\"seriesid\": source, 'startyear': start_year, 'endyear': end_year, 'registrationkey': API_Key})\n",
        "response = requests.post('https://api.bls.gov/publicAPI/v2/timeseries/data/', data=data, headers=headers).json()['Results']['series'][0]['data']\n",
        "# response"
      ],
      "metadata": {
        "id": "TzJOdQa4dbGj"
      },
      "execution_count": 27,
      "outputs": []
    },
    {
      "cell_type": "markdown",
      "source": [
        "**CPI-W/Less Food and Energy (Unadjusted) - CWUR0000SA0L1E**"
      ],
      "metadata": {
        "id": "uF_S9MVKdaPW"
      }
    },
    {
      "cell_type": "code",
      "source": [
        "source = ['CWUR0000SA0L1E']\n",
        "data = json.dumps({\"seriesid\": source, 'startyear': start_year, 'endyear': end_year, 'registrationkey': API_Key})\n",
        "response = requests.post('https://api.bls.gov/publicAPI/v2/timeseries/data/', data=data, headers=headers).json()['Results']['series'][0]['data']\n",
        "# response"
      ],
      "metadata": {
        "id": "4fh879Y-dajZ"
      },
      "execution_count": null,
      "outputs": []
    },
    {
      "cell_type": "markdown",
      "source": [
        "**PPI Final Demand (Seasonally Adjusted) - WPSFD4**"
      ],
      "metadata": {
        "id": "GbUMHktcdZza"
      }
    },
    {
      "cell_type": "code",
      "source": [
        "source = ['WPSFD4']\n",
        "data = json.dumps({\"seriesid\": source, 'startyear': start_year, 'endyear': end_year, 'registrationkey': API_Key})\n",
        "response = requests.post('https://api.bls.gov/publicAPI/v2/timeseries/data/', data=data, headers=headers).json()['Results']['series'][0]['data']\n",
        "# response"
      ],
      "metadata": {
        "id": "7SS-dMkcdaBS"
      },
      "execution_count": null,
      "outputs": []
    },
    {
      "cell_type": "markdown",
      "source": [
        "**PPI Final Demand (Unadjusted) - WPUFD4**"
      ],
      "metadata": {
        "id": "H3G1ix1UdZIj"
      }
    },
    {
      "cell_type": "code",
      "source": [
        "source = ['WPUFD4']\n",
        "data = json.dumps({\"seriesid\": source, 'startyear': start_year, 'endyear': end_year, 'registrationkey': API_Key})\n",
        "response = requests.post('https://api.bls.gov/publicAPI/v2/timeseries/data/', data=data, headers=headers).json()['Results']['series'][0]['data']\n",
        "# response"
      ],
      "metadata": {
        "id": "ilrlNshedZgm"
      },
      "execution_count": null,
      "outputs": []
    },
    {
      "cell_type": "markdown",
      "source": [
        "**PPI Final Demand less foods and energy (Unadjusted) - WPUFD49104**"
      ],
      "metadata": {
        "id": "EDvuUVkndYo4"
      }
    },
    {
      "cell_type": "code",
      "source": [
        "source = ['WPUFD49104']\n",
        "data = json.dumps({\"seriesid\": source, 'startyear': start_year, 'endyear': end_year, 'registrationkey': API_Key})\n",
        "response = requests.post('https://api.bls.gov/publicAPI/v2/timeseries/data/', data=data, headers=headers).json()['Results']['series'][0]['data']\n",
        "# response"
      ],
      "metadata": {
        "id": "zIKF8XPXdY4L"
      },
      "execution_count": null,
      "outputs": []
    },
    {
      "cell_type": "markdown",
      "source": [
        "**PPI Final Demand less foods, energy, and trade services (Unadjusted) - WPUFD49116**"
      ],
      "metadata": {
        "id": "QlcHBa0ZdYFN"
      }
    },
    {
      "cell_type": "code",
      "source": [
        "source = ['WPUFD49116']\n",
        "data = json.dumps({\"seriesid\": source, 'startyear': start_year, 'endyear': end_year, 'registrationkey': API_Key})\n",
        "response = requests.post('https://api.bls.gov/publicAPI/v2/timeseries/data/', data=data, headers=headers).json()['Results']['series'][0]['data']\n",
        "# response"
      ],
      "metadata": {
        "id": "cCwgoS-ZdYVu"
      },
      "execution_count": null,
      "outputs": []
    },
    {
      "cell_type": "markdown",
      "source": [
        "**PPI Finished Goods 1982=100 (Unadjusted) - WPUFD49207**"
      ],
      "metadata": {
        "id": "jtVhafKodXmz"
      }
    },
    {
      "cell_type": "code",
      "source": [
        "source = ['WPUFD49207']\n",
        "data = json.dumps({\"seriesid\": source, 'startyear': start_year, 'endyear': end_year, 'registrationkey': API_Key})\n",
        "response = requests.post('https://api.bls.gov/publicAPI/v2/timeseries/data/', data=data, headers=headers).json()['Results']['series'][0]['data']\n",
        "# response"
      ],
      "metadata": {
        "id": "H1K0ClCTdX1v"
      },
      "execution_count": null,
      "outputs": []
    },
    {
      "cell_type": "markdown",
      "source": [
        "**Imports - All Commodities - EIUIR**"
      ],
      "metadata": {
        "id": "91Zif_y5dXDS"
      }
    },
    {
      "cell_type": "code",
      "source": [
        "source = ['EIUIR']\n",
        "data = json.dumps({\"seriesid\": source, 'startyear': start_year, 'endyear': end_year, 'registrationkey': API_Key})\n",
        "response = requests.post('https://api.bls.gov/publicAPI/v2/timeseries/data/', data=data, headers=headers).json()['Results']['series'][0]['data']\n",
        "# response"
      ],
      "metadata": {
        "id": "Y921cE6OdXYj"
      },
      "execution_count": null,
      "outputs": []
    },
    {
      "cell_type": "markdown",
      "source": [
        "**Exports - All Commodities - EIUIQ**"
      ],
      "metadata": {
        "id": "NnJB_r6ndWfE"
      }
    },
    {
      "cell_type": "code",
      "source": [
        "source = ['EIUIQ']\n",
        "data = json.dumps({\"seriesid\": source, 'startyear': start_year, 'endyear': end_year, 'registrationkey': API_Key})\n",
        "response = requests.post('https://api.bls.gov/publicAPI/v2/timeseries/data/', data=data, headers=headers).json()['Results']['series'][0]['data']\n",
        "# response"
      ],
      "metadata": {
        "id": "TvbQUgP2dWw1"
      },
      "execution_count": null,
      "outputs": []
    },
    {
      "cell_type": "markdown",
      "source": [
        "# **Compensation**"
      ],
      "metadata": {
        "id": "AAGhEpvXfOH7"
      }
    },
    {
      "cell_type": "markdown",
      "source": [
        "**Employment Cost Index (ECI) Civilian (Unadjusted) - CIU1010000000000A**"
      ],
      "metadata": {
        "id": "jtc7o4R5dVvF"
      }
    },
    {
      "cell_type": "code",
      "source": [
        "source = ['CIU1010000000000A']\n",
        "data = json.dumps({\"seriesid\": source, 'startyear': start_year, 'endyear': end_year, 'registrationkey': API_Key})\n",
        "response = requests.post('https://api.bls.gov/publicAPI/v2/timeseries/data/', data=data, headers=headers).json()['Results']['series'][0]['data']\n",
        "# response"
      ],
      "metadata": {
        "id": "pVs9CT7jdWEs"
      },
      "execution_count": null,
      "outputs": []
    },
    {
      "cell_type": "markdown",
      "source": [
        "**ECI Private (Unadjusted) - CIU2010000000000A**"
      ],
      "metadata": {
        "id": "ieo6GCvrdVBM"
      }
    },
    {
      "cell_type": "code",
      "source": [
        "source = ['CIU2010000000000A']\n",
        "data = json.dumps({\"seriesid\": source, 'startyear': start_year, 'endyear': end_year, 'registrationkey': API_Key})\n",
        "response = requests.post('https://api.bls.gov/publicAPI/v2/timeseries/data/', data=data, headers=headers).json()['Results']['series'][0]['data']\n",
        "# response"
      ],
      "metadata": {
        "id": "RCpLR0l9dVbw"
      },
      "execution_count": null,
      "outputs": []
    },
    {
      "cell_type": "markdown",
      "source": [
        "**ECI Private Wage and Salaries (Unadjusted) - CIU2020000000000A**"
      ],
      "metadata": {
        "id": "N7RlJdlrdUZI"
      }
    },
    {
      "cell_type": "code",
      "source": [
        "source = ['CIU2020000000000A']\n",
        "data = json.dumps({\"seriesid\": source, 'startyear': start_year, 'endyear': end_year, 'registrationkey': API_Key})\n",
        "response = requests.post('https://api.bls.gov/publicAPI/v2/timeseries/data/', data=data, headers=headers).json()['Results']['series'][0]['data']\n",
        "# response"
      ],
      "metadata": {
        "id": "8n7mQMJOdUuD"
      },
      "execution_count": null,
      "outputs": []
    }
  ]
}