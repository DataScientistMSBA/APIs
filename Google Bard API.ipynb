{
 "cells": [
  {
   "attachments": {},
   "cell_type": "markdown",
   "metadata": {
    "application/vnd.databricks.v1+cell": {
     "cellMetadata": {
      "byteLimit": 2048000,
      "rowLimit": 10000
     },
     "inputWidgets": {},
     "nuid": "7d31d404-1366-4aba-a1fc-90ade4f11bee",
     "showTitle": false,
     "title": ""
    }
   },
   "source": [
    "# PreLoads"
   ]
  },
  {
   "cell_type": "code",
   "execution_count": 1,
   "metadata": {
    "application/vnd.databricks.v1+cell": {
     "cellMetadata": {
      "byteLimit": 2048000,
      "rowLimit": 10000
     },
     "inputWidgets": {},
     "nuid": "9382a68f-c0b1-4165-a968-4db75a40317e",
     "showTitle": false,
     "title": ""
    }
   },
   "outputs": [
    {
     "name": "stdout",
     "output_type": "stream",
     "text": [
      "Collecting bardapi\n",
      "  Downloading bardapi-0.1.11-py3-none-any.whl (8.8 kB)\n",
      "Requirement already satisfied: requests in c:\\users\\ahicks233\\anaconda3\\lib\\site-packages (from bardapi) (2.29.0)\n",
      "Requirement already satisfied: charset-normalizer<4,>=2 in c:\\users\\ahicks233\\anaconda3\\lib\\site-packages (from requests->bardapi) (2.1.1)\n",
      "Requirement already satisfied: certifi>=2017.4.17 in c:\\users\\ahicks233\\anaconda3\\lib\\site-packages (from requests->bardapi) (2022.12.7)\n",
      "Requirement already satisfied: idna<4,>=2.5 in c:\\users\\ahicks233\\anaconda3\\lib\\site-packages (from requests->bardapi) (2.10)\n",
      "Requirement already satisfied: urllib3<1.27,>=1.21.1 in c:\\users\\ahicks233\\anaconda3\\lib\\site-packages (from requests->bardapi) (1.26.13)\n",
      "Installing collected packages: bardapi\n",
      "Successfully installed bardapi-0.1.11\n"
     ]
    }
   ],
   "source": [
    "!pip install bardapi"
   ]
  },
  {
   "cell_type": "code",
   "execution_count": 2,
   "metadata": {
    "application/vnd.databricks.v1+cell": {
     "cellMetadata": {
      "byteLimit": 2048000,
      "rowLimit": 10000
     },
     "inputWidgets": {},
     "nuid": "1cda1551-3e4a-4f6c-aeb9-4dabc184d1ae",
     "showTitle": false,
     "title": ""
    }
   },
   "outputs": [],
   "source": [
    "from bardapi import Bard\n",
    "import ipywidgets as widgets\n",
    "import os"
   ]
  },
  {
   "attachments": {},
   "cell_type": "markdown",
   "metadata": {
    "application/vnd.databricks.v1+cell": {
     "cellMetadata": {
      "byteLimit": 2048000,
      "rowLimit": 10000
     },
     "inputWidgets": {},
     "nuid": "f6335758-e52a-4889-aea4-97242fffecc9",
     "showTitle": false,
     "title": ""
    }
   },
   "source": [
    "##### [Instructions](https://medium.datadriveninvestor.com/access-google-bard-easily-with-python-package-bard-api-6de77b39cd04)"
   ]
  },
  {
   "cell_type": "code",
   "execution_count": 10,
   "metadata": {
    "application/vnd.databricks.v1+cell": {
     "cellMetadata": {
      "byteLimit": 2048000,
      "rowLimit": 10000
     },
     "inputWidgets": {},
     "nuid": "26d08941-cd06-4831-bd12-39c5f0fd96f2",
     "showTitle": false,
     "title": ""
    }
   },
   "outputs": [],
   "source": [
    "def RunBard(Source):\n",
    "    if Source == 'Local':\n",
    "        os.environ['_BARD_API_KEY'] = os.environ['_BARD_API_KEY']\n",
    "    elif Source == 'Databricks':\n",
    "        os.environ['_BARD_API_KEY'] = dbutils.secrets.get(scope = \"ahicks233\", key = \"Bard_API_Key\")    # Get from cookies; see instructions link above\n",
    "    else:\n",
    "        print('Source must be Local or Databricks')\n",
    "        return\n",
    "    input_text = input_box.value\n",
    "    print(Bard().get_answer(input_text)['content'])"
   ]
  },
  {
   "attachments": {},
   "cell_type": "markdown",
   "metadata": {
    "application/vnd.databricks.v1+cell": {
     "cellMetadata": {
      "byteLimit": 2048000,
      "rowLimit": 10000
     },
     "inputWidgets": {},
     "nuid": "6bce10d6-ab7e-48e2-9482-a6f7ced43390",
     "showTitle": false,
     "title": ""
    }
   },
   "source": [
    "# Run Bard"
   ]
  },
  {
   "cell_type": "code",
   "execution_count": 11,
   "metadata": {
    "application/vnd.databricks.v1+cell": {
     "cellMetadata": {
      "byteLimit": 2048000,
      "rowLimit": 10000
     },
     "inputWidgets": {},
     "nuid": "4e2336d4-300c-4cd2-b3dc-94c90f3c44ee",
     "showTitle": true,
     "title": "Ask Question"
    }
   },
   "outputs": [
    {
     "data": {
      "application/vnd.jupyter.widget-view+json": {
       "model_id": "0fd8b34b9704498a8b68535c63449c8b",
       "version_major": 2,
       "version_minor": 0
      },
      "text/plain": [
       "Text(value='')"
      ]
     },
     "metadata": {},
     "output_type": "display_data"
    }
   ],
   "source": [
    "input_box = widgets.Text()\n",
    "display(input_box)"
   ]
  },
  {
   "cell_type": "code",
   "execution_count": 12,
   "metadata": {
    "application/vnd.databricks.v1+cell": {
     "cellMetadata": {
      "byteLimit": 2048000,
      "rowLimit": 10000
     },
     "inputWidgets": {},
     "nuid": "12e1f01c-5567-4e31-a34e-1259c83d1dd5",
     "showTitle": false,
     "title": ""
    }
   },
   "outputs": [
    {
     "name": "stdout",
     "output_type": "stream",
     "text": [
      "The Moon is an average of 238,855 miles (384,400 km) away from Earth. This distance varies because the Moon travels around Earth in an elliptical orbit. At perigee, the point at which the Moon is closest to Earth, the distance is approximately 226,000 miles (363,300 km). At apogee, the point at which the Moon is farthest from Earth, the distance is approximately 251,000 miles (405,500 km).\n",
      "\n",
      "The Moon's distance from Earth has been slowly increasing over time due to the gravitational pull of the Sun. This is because the Moon's orbit is not perfectly circular, and the Sun's gravity pulls on the Moon's orbit, causing it to stretch out over time. The Moon's distance from Earth is currently increasing by about 1.5 inches (3.8 cm) per year.\n"
     ]
    }
   ],
   "source": [
    "RunBard('Local')"
   ]
  }
 ],
 "metadata": {
  "application/vnd.databricks.v1+notebook": {
   "dashboards": [],
   "language": "python",
   "notebookMetadata": {
    "mostRecentlyExecutedCommandWithImplicitDF": {
     "commandId": 2764547273622685,
     "dataframes": [
      "_sqldf"
     ]
    },
    "pythonIndentUnit": 4
   },
   "notebookName": "Google Bard API",
   "widgets": {}
  },
  "kernelspec": {
   "display_name": "base",
   "language": "python",
   "name": "python3"
  },
  "language_info": {
   "name": "python",
   "version": "3.8.8"
  }
 },
 "nbformat": 4,
 "nbformat_minor": 0
}
